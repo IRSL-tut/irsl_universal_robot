{
 "cells": [
  {
   "cell_type": "markdown",
   "id": "b94b335f-f63c-4b22-b629-1e3e864934fd",
   "metadata": {},
   "source": [
    "# UniversalRobot(UR5e)の動作サンプル"
   ]
  },
  {
   "cell_type": "markdown",
   "id": "148f9583-2055-4d86-8101-2963e5990790",
   "metadata": {},
   "source": [
    "## 共通インポート"
   ]
  },
  {
   "cell_type": "code",
   "execution_count": 1,
   "id": "79caa6f5-6be2-49ef-8987-248f89b04983",
   "metadata": {},
   "outputs": [],
   "source": [
    "exec(open('/choreonoid_ws/install/share/irsl_choreonoid/sample/irsl_import.py').read())"
   ]
  },
  {
   "cell_type": "markdown",
   "id": "d8f1b16b-d3e1-490a-af46-428f5cedecbf",
   "metadata": {},
   "source": [
    "## RI(Robot interface)の作成"
   ]
  },
  {
   "cell_type": "code",
   "execution_count": 2,
   "id": "419751ba-64d9-4b11-a440-6e78a2509c6b",
   "metadata": {},
   "outputs": [
    {
     "data": {
      "text/plain": [
       "loading model from /ur5e_ws/src/ur5e_robot/model/ur5e_robot.body\n",
       "joint: [{'name': 'default', 'topic': '/ur5e/trajectory_controller/follow_joint_trajectory', 'type': 'action', 'joint_names': ['shoulder_pan_joint', 'shoulder_lift_joint', 'elbow_joint', 'wrist_1_joint', 'wrist_2_joint', 'wrist_3_joint']}, {'name': 'gripper', 'topic': '/ur5e/gripper_controller/command', 'type': 'command', 'joint_names': ['finger_joint0']}, {'name': 'wholebody', 'type': 'combined', 'groups': ['default', 'gripper']}]\n",
       "devices: [{'topic': '/ur5e/joint_states', 'class': 'JointState', 'name': 'joint_state'}]"
      ]
     },
     "execution_count": 2,
     "metadata": {},
     "output_type": "execute_result"
    }
   ],
   "source": [
    "ri = RobotInterface('/userdir/ur5e_robot/model/ur5e_robotinterface.yaml')"
   ]
  },
  {
   "cell_type": "markdown",
   "id": "3cb257c0-66fc-4d2a-b664-ccb526608693",
   "metadata": {},
   "source": [
    "## ロボットモデルの作成"
   ]
  },
  {
   "cell_type": "code",
   "execution_count": 3,
   "id": "2ec35718-793c-4c88-b712-bc6ad87b5238",
   "metadata": {},
   "outputs": [],
   "source": [
    "robot = ri.getRobotModel()"
   ]
  },
  {
   "cell_type": "markdown",
   "id": "806d29dc-8ac1-446a-93ac-475ffb665344",
   "metadata": {},
   "source": [
    "## モデルを初期姿勢にする"
   ]
  },
  {
   "cell_type": "code",
   "execution_count": 4,
   "id": "5a396bc0-d7da-49df-bff7-7bf29da962fd",
   "metadata": {},
   "outputs": [],
   "source": [
    "robot.registerNamedPose('upper_rightside', [PI/2, -PI/3,PI/3,PI/2,PI/2])\n",
    "robot.setNamedPose('upper_rightside')"
   ]
  },
  {
   "cell_type": "markdown",
   "id": "ccf58981-6edf-43f3-890e-d663ad86c741",
   "metadata": {},
   "source": [
    "##　シミュレーションのロボットをモデルの姿勢にする"
   ]
  },
  {
   "cell_type": "code",
   "execution_count": 5,
   "id": "3d2c7b55-f3d1-4d86-af35-5fd2f37e43da",
   "metadata": {},
   "outputs": [],
   "source": [
    "ri.sendAngleVector(robot.angleVector(), 5.0)\n",
    "ri.waitUntilFinish()"
   ]
  },
  {
   "cell_type": "markdown",
   "id": "a6a7f887-b15d-4382-a6dc-c1ba04e532e6",
   "metadata": {},
   "source": [
    "##　endeffectorにとってほしい座標を入力"
   ]
  },
  {
   "cell_type": "code",
   "execution_count": 6,
   "id": "2af2884a-597b-45dc-975e-23ec093e65d4",
   "metadata": {},
   "outputs": [
    {
     "data": {
      "text/plain": [
       "[0.261 0.392 0.251] [0 0 0 1]\n",
       "\n",
       "<coordinates[0x6365bd924190] 0.261 0.392 0.251 / 0 0 0 1 >"
      ]
     },
     "execution_count": 6,
     "metadata": {},
     "output_type": "execute_result"
    }
   ],
   "source": [
    "ball_pos1 =  fv(-2.1, 0, 0.74) - fv(-2.361, -0.392, 0.789) + fv(0,0,0.3)\n",
    "ball_ori1 = fv(0,0,0,1) # Quaternionで指定\n",
    "print(ball_pos1, ball_ori1)\n",
    "coord = coordinates(ball_pos1, ball_ori1)\n",
    "coord"
   ]
  },
  {
   "cell_type": "markdown",
   "id": "ce46c6cd-1154-40b4-92e4-26ee0b9fe40a",
   "metadata": {},
   "source": [
    "##　IK(InverseKinematics)を用いて姿勢を解く"
   ]
  },
  {
   "cell_type": "code",
   "execution_count": 7,
   "id": "e0e518dd-70a5-413c-b027-0b7f06d8b0d9",
   "metadata": {},
   "outputs": [
    {
     "data": {
      "text/plain": [
       "(True, 6)"
      ]
     },
     "execution_count": 7,
     "metadata": {},
     "output_type": "execute_result"
    }
   ],
   "source": [
    "robot.arm.inverseKinematics(coord, constraint='xyzRPY')"
   ]
  },
  {
   "cell_type": "markdown",
   "id": "abfc5e1e-6ae7-446f-88fc-af99b37668aa",
   "metadata": {},
   "source": [
    "##　シミュレーションのロボットをモデルの姿勢にする"
   ]
  },
  {
   "cell_type": "code",
   "execution_count": 8,
   "id": "9eebadb1-c4e0-42f6-b526-788e172a9a12",
   "metadata": {},
   "outputs": [],
   "source": [
    "ri.sendAngleVector(robot.angleVector(), 5.0)\n",
    "ri.waitUntilFinish()"
   ]
  },
  {
   "cell_type": "markdown",
   "id": "93e0d82b-a1bb-4979-9eb3-168151bbed0f",
   "metadata": {},
   "source": [
    "##　シミュレーションのロボットのエンドエフェクタを開く"
   ]
  },
  {
   "cell_type": "code",
   "execution_count": 9,
   "id": "0f10ce85-6867-48e3-bd3d-9cbc5978cae0",
   "metadata": {},
   "outputs": [
    {
     "data": {
      "text/plain": [
       "True"
      ]
     },
     "execution_count": 9,
     "metadata": {},
     "output_type": "execute_result"
    }
   ],
   "source": [
    "robot.setAngleMap({'finger_joint0':0.7})"
   ]
  },
  {
   "cell_type": "markdown",
   "id": "07bde189-f7b7-4f98-8d52-ff59f312f6ee",
   "metadata": {},
   "source": [
    "##　シミュレーションのロボットをモデルの姿勢にする"
   ]
  },
  {
   "cell_type": "code",
   "execution_count": 10,
   "id": "0b9d1db9-4999-4058-9f39-2d967fb826d1",
   "metadata": {},
   "outputs": [],
   "source": [
    "ri.sendAngleVector(robot.angleVector(), 5.0, group='gripper')\n",
    "ri.waitUntilFinish(group='gripper')"
   ]
  },
  {
   "cell_type": "code",
   "execution_count": null,
   "id": "747a4b6d-1c7d-45d8-a9e6-45991cf6c2f2",
   "metadata": {},
   "outputs": [],
   "source": []
  }
 ],
 "metadata": {
  "kernelspec": {
   "display_name": "Choreonoid",
   "language": "python",
   "name": "choreonoid"
  },
  "language_info": {
   "codemirror_mode": "",
   "file_extension": ".py",
   "mimetype": "text/x-python",
   "name": "python",
   "nbconvert_exporter": "",
   "pygments_lexer": "",
   "version": "3.7"
  }
 },
 "nbformat": 4,
 "nbformat_minor": 5
}
